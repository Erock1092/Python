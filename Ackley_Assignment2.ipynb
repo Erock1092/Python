{
  "nbformat": 4,
  "nbformat_minor": 0,
  "metadata": {
    "colab": {
      "name": "Ackley_Assignment2.ipynb",
      "provenance": [],
      "collapsed_sections": [],
      "authorship_tag": "ABX9TyOx2neo7pK+xjJE3kHNHK46",
      "include_colab_link": true
    },
    "kernelspec": {
      "name": "python3",
      "display_name": "Python 3"
    }
  },
  "cells": [
    {
      "cell_type": "markdown",
      "metadata": {
        "id": "view-in-github",
        "colab_type": "text"
      },
      "source": [
        "<a href=\"https://colab.research.google.com/github/Erock1092/Python/blob/master/Ackley_Assignment2.ipynb\" target=\"_parent\"><img src=\"https://colab.research.google.com/assets/colab-badge.svg\" alt=\"Open In Colab\"/></a>"
      ]
    },
    {
      "cell_type": "code",
      "metadata": {
        "id": "lemOPmFKai8A",
        "colab_type": "code",
        "outputId": "284b4ab1-0fe0-496d-ccc3-2c097f06054d",
        "colab": {
          "base_uri": "https://localhost:8080/",
          "height": 508
        }
      },
      "source": [
        "\n",
        "def addition(x,y):\n",
        "  return x+y\n",
        "def subtraction(x,y):\n",
        "  return x-y\n",
        "def modulo(x,y):\n",
        "  if(y == 0):\n",
        "    return\n",
        "  return x%y\n",
        "def multiply(x,y):\n",
        "  return x*y\n",
        "def power(x,y):\n",
        "  return x^y\n",
        "def divide(x,y):\n",
        "  if y == 0:\n",
        "    return\n",
        "  return x/y\n",
        "\n",
        "def calculator(var1, var2):\n",
        "  print (\"Menu:\\n1:Addition\\n2:Subtraction\\n3:Multiply\\n4:Divide\\n5:Power\\n6:Modulo\\n7:Exit\\n\")\n",
        "  sel = input()\n",
        "  return{\n",
        "      '1':addition(var1,var2),\n",
        "      '2':subtraction(var1,var2),\n",
        "      '3':multiply(var1,var2),\n",
        "      '4':divide(var1,var2),\n",
        "      '5':power(var1,var2),\n",
        "      '6':modulo(var1,var2),\n",
        "      '7':False\n",
        "    \n",
        "  }.get(sel,'9')\n",
        "\n",
        "while(True):\n",
        "  var1 = int(input(\"Enter var1 \"))\n",
        "  var2 = int(input(\"Enter var2 \")) \n",
        "  result = calculator(var1,var2)\n",
        "  if(result == '9'):\n",
        "    print(\"Wrong Option! Try again\")\n",
        "    calculator(var1,var2)\n",
        "  if(result == False):\n",
        "    break\n",
        "  print(\"\\n\", result)\n",
        "print(\"Goodbye\")  \n",
        "exit(0)"
      ],
      "execution_count": 1,
      "outputs": [
        {
          "output_type": "stream",
          "text": [
            "Enter var1 10\n",
            "Enter var2 20\n",
            "Menu:\n",
            "1:Addition\n",
            "2:Subtraction\n",
            "3:Multiply\n",
            "4:Divide\n",
            "5:Power\n",
            "6:Modulo\n",
            "7:Exit\n",
            "\n",
            "1\n",
            "\n",
            " 30\n",
            "Enter var1 7\n",
            "Enter var2 60\n",
            "Menu:\n",
            "1:Addition\n",
            "2:Subtraction\n",
            "3:Multiply\n",
            "4:Divide\n",
            "5:Power\n",
            "6:Modulo\n",
            "7:Exit\n",
            "\n",
            "7\n",
            "Goodbye\n"
          ],
          "name": "stdout"
        }
      ]
    },
    {
      "cell_type": "code",
      "metadata": {
        "id": "aT7rcisYiW2U",
        "colab_type": "code",
        "colab": {}
      },
      "source": [
        ""
      ],
      "execution_count": 0,
      "outputs": []
    }
  ]
}